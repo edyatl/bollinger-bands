{
 "cells": [
  {
   "cell_type": "markdown",
   "id": "norwegian-crack",
   "metadata": {},
   "source": [
    "## Python porting of  Bollinger Bands TradingView Indicator"
   ]
  },
  {
   "cell_type": "markdown",
   "id": "killing-recovery",
   "metadata": {},
   "source": [
    ">Developed by [@edyatl](https://github.com/edyatl) April 2023 <edyatl@yandex.ru>\n"
   ]
  },
  {
   "cell_type": "code",
   "execution_count": 1,
   "id": "complimentary-client",
   "metadata": {},
   "outputs": [
    {
     "data": {
      "application/javascript": [
       "\n",
       "            setTimeout(function() {\n",
       "                var nbb_cell_id = 1;\n",
       "                var nbb_unformatted_code = \"# Load Jupyter extension for auto correction coding style based on Black Lib\\n%load_ext nb_black\";\n",
       "                var nbb_formatted_code = \"# Load Jupyter extension for auto correction coding style based on Black Lib\\n%load_ext nb_black\";\n",
       "                var nbb_cells = Jupyter.notebook.get_cells();\n",
       "                for (var i = 0; i < nbb_cells.length; ++i) {\n",
       "                    if (nbb_cells[i].input_prompt_number == nbb_cell_id) {\n",
       "                        if (nbb_cells[i].get_text() == nbb_unformatted_code) {\n",
       "                             nbb_cells[i].set_text(nbb_formatted_code);\n",
       "                        }\n",
       "                        break;\n",
       "                    }\n",
       "                }\n",
       "            }, 500);\n",
       "            "
      ],
      "text/plain": [
       "<IPython.core.display.Javascript object>"
      ]
     },
     "metadata": {},
     "output_type": "display_data"
    }
   ],
   "source": [
    "# Load Jupyter extension for auto correction coding style based on Black Lib\n",
    "%load_ext nb_black"
   ]
  },
  {
   "cell_type": "markdown",
   "id": "modified-dealer",
   "metadata": {},
   "source": [
    "### Original Indicator code\n",
    "\n",
    "```python\n",
    "//@version=5 \n",
    "indicator(shorttitle=\"BB\", title=\"Bollinger Bands\", overlay=true, timeframe=\"\", timeframe_gaps=true) \n",
    "\n",
    "length = input.int(20, minval=1) \n",
    "src    = input(close, title=\"Source\") \n",
    "mult   = input.float(2.0, minval=0.001, maxval=50, title=\"StdDev\") \n",
    "\n",
    "basis = ta.sma(src, length) \n",
    "dev = mult * ta.stdev(src, length) \n",
    "\n",
    "upper = basis + dev \n",
    "lower = basis - dev \n",
    "\n",
    "offset = input.int(0, \"Offset\", minval = -500, maxval = 500) \n",
    "\n",
    "plot(basis, \"Basis\", color=#FF6D00, offset = offset) \n",
    "p1 = plot(upper, \"Upper\", color=#2962FF, offset = offset) \n",
    "p2 = plot(lower, \"Lower\", color=#2962FF, offset = offset) \n",
    "\n",
    "fill(p1, p2, title = \"Background\", color=color.rgb(33, 150, 243, 95))\n",
    "```"
   ]
  },
  {
   "cell_type": "code",
   "execution_count": 2,
   "id": "legislative-venice",
   "metadata": {},
   "outputs": [
    {
     "data": {
      "application/javascript": [
       "\n",
       "            setTimeout(function() {\n",
       "                var nbb_cell_id = 2;\n",
       "                var nbb_unformatted_code = \"# Standard imports\\nimport pandas as pd\\nimport numpy as np\\n\\n# import matplotlib.pyplot as plt\\n# import seaborn as sns\\nimport talib as tl\\n\\nimport os\\nfrom os import environ as env\\nfrom dotenv import load_dotenv\\nfrom binance import Client, ThreadedWebsocketManager, ThreadedDepthCacheManager\\n\\n# Nicest style for plots\\n# sns.set(style=\\\"ticks\\\")\";\n",
       "                var nbb_formatted_code = \"# Standard imports\\nimport pandas as pd\\nimport numpy as np\\n\\n# import matplotlib.pyplot as plt\\n# import seaborn as sns\\nimport talib as tl\\n\\nimport os\\nfrom os import environ as env\\nfrom dotenv import load_dotenv\\nfrom binance import Client, ThreadedWebsocketManager, ThreadedDepthCacheManager\\n\\n# Nicest style for plots\\n# sns.set(style=\\\"ticks\\\")\";\n",
       "                var nbb_cells = Jupyter.notebook.get_cells();\n",
       "                for (var i = 0; i < nbb_cells.length; ++i) {\n",
       "                    if (nbb_cells[i].input_prompt_number == nbb_cell_id) {\n",
       "                        if (nbb_cells[i].get_text() == nbb_unformatted_code) {\n",
       "                             nbb_cells[i].set_text(nbb_formatted_code);\n",
       "                        }\n",
       "                        break;\n",
       "                    }\n",
       "                }\n",
       "            }, 500);\n",
       "            "
      ],
      "text/plain": [
       "<IPython.core.display.Javascript object>"
      ]
     },
     "metadata": {},
     "output_type": "display_data"
    }
   ],
   "source": [
    "# Standard imports\n",
    "import pandas as pd\n",
    "import numpy as np\n",
    "\n",
    "# import matplotlib.pyplot as plt\n",
    "# import seaborn as sns\n",
    "import talib as tl\n",
    "\n",
    "import os\n",
    "from os import environ as env\n",
    "from dotenv import load_dotenv\n",
    "from binance import Client, ThreadedWebsocketManager, ThreadedDepthCacheManager\n",
    "\n",
    "# Nicest style for plots\n",
    "# sns.set(style=\"ticks\")"
   ]
  },
  {
   "cell_type": "code",
   "execution_count": 3,
   "id": "clean-density",
   "metadata": {},
   "outputs": [
    {
     "data": {
      "application/javascript": [
       "\n",
       "            setTimeout(function() {\n",
       "                var nbb_cell_id = 3;\n",
       "                var nbb_unformatted_code = \"# Install a pip package in the current Jupyter kernel\\n# import sys\\n\\n# !{sys.executable} -m pip install -U python-dotenv\";\n",
       "                var nbb_formatted_code = \"# Install a pip package in the current Jupyter kernel\\n# import sys\\n\\n# !{sys.executable} -m pip install -U python-dotenv\";\n",
       "                var nbb_cells = Jupyter.notebook.get_cells();\n",
       "                for (var i = 0; i < nbb_cells.length; ++i) {\n",
       "                    if (nbb_cells[i].input_prompt_number == nbb_cell_id) {\n",
       "                        if (nbb_cells[i].get_text() == nbb_unformatted_code) {\n",
       "                             nbb_cells[i].set_text(nbb_formatted_code);\n",
       "                        }\n",
       "                        break;\n",
       "                    }\n",
       "                }\n",
       "            }, 500);\n",
       "            "
      ],
      "text/plain": [
       "<IPython.core.display.Javascript object>"
      ]
     },
     "metadata": {},
     "output_type": "display_data"
    }
   ],
   "source": [
    "# Install a pip package in the current Jupyter kernel\n",
    "# import sys\n",
    "\n",
    "# !{sys.executable} -m pip install -U python-dotenv"
   ]
  },
  {
   "cell_type": "code",
   "execution_count": 4,
   "id": "modern-manufacturer",
   "metadata": {},
   "outputs": [
    {
     "data": {
      "application/javascript": [
       "\n",
       "            setTimeout(function() {\n",
       "                var nbb_cell_id = 4;\n",
       "                var nbb_unformatted_code = \"project_dotenv = os.path.join(os.path.abspath(\\\"\\\"), \\\".env\\\")\\nif os.path.exists(project_dotenv):\\n    load_dotenv(project_dotenv)\";\n",
       "                var nbb_formatted_code = \"project_dotenv = os.path.join(os.path.abspath(\\\"\\\"), \\\".env\\\")\\nif os.path.exists(project_dotenv):\\n    load_dotenv(project_dotenv)\";\n",
       "                var nbb_cells = Jupyter.notebook.get_cells();\n",
       "                for (var i = 0; i < nbb_cells.length; ++i) {\n",
       "                    if (nbb_cells[i].input_prompt_number == nbb_cell_id) {\n",
       "                        if (nbb_cells[i].get_text() == nbb_unformatted_code) {\n",
       "                             nbb_cells[i].set_text(nbb_formatted_code);\n",
       "                        }\n",
       "                        break;\n",
       "                    }\n",
       "                }\n",
       "            }, 500);\n",
       "            "
      ],
      "text/plain": [
       "<IPython.core.display.Javascript object>"
      ]
     },
     "metadata": {},
     "output_type": "display_data"
    }
   ],
   "source": [
    "project_dotenv = os.path.join(os.path.abspath(\"\"), \".env\")\n",
    "if os.path.exists(project_dotenv):\n",
    "    load_dotenv(project_dotenv)"
   ]
  },
  {
   "cell_type": "code",
   "execution_count": 5,
   "id": "increased-mouse",
   "metadata": {},
   "outputs": [
    {
     "data": {
      "application/javascript": [
       "\n",
       "            setTimeout(function() {\n",
       "                var nbb_cell_id = 5;\n",
       "                var nbb_unformatted_code = \"api_key, api_secret = env.get(\\\"ENV_API_KEY\\\"), env.get(\\\"ENV_SECRET_KEY\\\")\\nclient = Client(api_key, api_secret)\";\n",
       "                var nbb_formatted_code = \"api_key, api_secret = env.get(\\\"ENV_API_KEY\\\"), env.get(\\\"ENV_SECRET_KEY\\\")\\nclient = Client(api_key, api_secret)\";\n",
       "                var nbb_cells = Jupyter.notebook.get_cells();\n",
       "                for (var i = 0; i < nbb_cells.length; ++i) {\n",
       "                    if (nbb_cells[i].input_prompt_number == nbb_cell_id) {\n",
       "                        if (nbb_cells[i].get_text() == nbb_unformatted_code) {\n",
       "                             nbb_cells[i].set_text(nbb_formatted_code);\n",
       "                        }\n",
       "                        break;\n",
       "                    }\n",
       "                }\n",
       "            }, 500);\n",
       "            "
      ],
      "text/plain": [
       "<IPython.core.display.Javascript object>"
      ]
     },
     "metadata": {},
     "output_type": "display_data"
    }
   ],
   "source": [
    "api_key, api_secret = env.get(\"ENV_API_KEY\"), env.get(\"ENV_SECRET_KEY\")\n",
    "client = Client(api_key, api_secret)"
   ]
  },
  {
   "cell_type": "code",
   "execution_count": 6,
   "id": "double-affiliation",
   "metadata": {},
   "outputs": [
    {
     "data": {
      "application/javascript": [
       "\n",
       "            setTimeout(function() {\n",
       "                var nbb_cell_id = 6;\n",
       "                var nbb_unformatted_code = \"klines = client.get_klines(symbol=\\\"ATOMUSDT\\\", interval=Client.KLINE_INTERVAL_15MINUTE)\\n\\nshort_col_names = [\\n    \\\"open_time\\\",\\n    \\\"open\\\",\\n    \\\"high\\\",\\n    \\\"low\\\",\\n    \\\"close\\\",\\n    \\\"volume\\\",\\n    \\\"close_time\\\",\\n    \\\"qav\\\",\\n    \\\"num_trades\\\",\\n    \\\"taker_base_vol\\\",\\n    \\\"taker_quote_vol\\\",\\n    \\\"ignore\\\",\\n]\";\n",
       "                var nbb_formatted_code = \"klines = client.get_klines(symbol=\\\"ATOMUSDT\\\", interval=Client.KLINE_INTERVAL_15MINUTE)\\n\\nshort_col_names = [\\n    \\\"open_time\\\",\\n    \\\"open\\\",\\n    \\\"high\\\",\\n    \\\"low\\\",\\n    \\\"close\\\",\\n    \\\"volume\\\",\\n    \\\"close_time\\\",\\n    \\\"qav\\\",\\n    \\\"num_trades\\\",\\n    \\\"taker_base_vol\\\",\\n    \\\"taker_quote_vol\\\",\\n    \\\"ignore\\\",\\n]\";\n",
       "                var nbb_cells = Jupyter.notebook.get_cells();\n",
       "                for (var i = 0; i < nbb_cells.length; ++i) {\n",
       "                    if (nbb_cells[i].input_prompt_number == nbb_cell_id) {\n",
       "                        if (nbb_cells[i].get_text() == nbb_unformatted_code) {\n",
       "                             nbb_cells[i].set_text(nbb_formatted_code);\n",
       "                        }\n",
       "                        break;\n",
       "                    }\n",
       "                }\n",
       "            }, 500);\n",
       "            "
      ],
      "text/plain": [
       "<IPython.core.display.Javascript object>"
      ]
     },
     "metadata": {},
     "output_type": "display_data"
    }
   ],
   "source": [
    "klines = client.get_klines(symbol=\"ATOMUSDT\", interval=Client.KLINE_INTERVAL_15MINUTE)\n",
    "\n",
    "short_col_names = [\n",
    "    \"open_time\",\n",
    "    \"open\",\n",
    "    \"high\",\n",
    "    \"low\",\n",
    "    \"close\",\n",
    "    \"volume\",\n",
    "    \"close_time\",\n",
    "    \"qav\",\n",
    "    \"num_trades\",\n",
    "    \"taker_base_vol\",\n",
    "    \"taker_quote_vol\",\n",
    "    \"ignore\",\n",
    "]"
   ]
  },
  {
   "cell_type": "code",
   "execution_count": 7,
   "id": "monetary-prescription",
   "metadata": {},
   "outputs": [
    {
     "data": {
      "text/html": [
       "<div>\n",
       "<style scoped>\n",
       "    .dataframe tbody tr th:only-of-type {\n",
       "        vertical-align: middle;\n",
       "    }\n",
       "\n",
       "    .dataframe tbody tr th {\n",
       "        vertical-align: top;\n",
       "    }\n",
       "\n",
       "    .dataframe thead th {\n",
       "        text-align: right;\n",
       "    }\n",
       "</style>\n",
       "<table border=\"1\" class=\"dataframe\">\n",
       "  <thead>\n",
       "    <tr style=\"text-align: right;\">\n",
       "      <th></th>\n",
       "      <th>open_time</th>\n",
       "      <th>open</th>\n",
       "      <th>high</th>\n",
       "      <th>low</th>\n",
       "      <th>close</th>\n",
       "      <th>volume</th>\n",
       "      <th>close_time</th>\n",
       "      <th>qav</th>\n",
       "      <th>num_trades</th>\n",
       "      <th>taker_base_vol</th>\n",
       "      <th>taker_quote_vol</th>\n",
       "      <th>ignore</th>\n",
       "    </tr>\n",
       "  </thead>\n",
       "  <tbody>\n",
       "    <tr>\n",
       "      <th>495</th>\n",
       "      <td>2023-04-30 21:45:00</td>\n",
       "      <td>11.64200000</td>\n",
       "      <td>11.65100000</td>\n",
       "      <td>11.59200000</td>\n",
       "      <td>11.59300000</td>\n",
       "      <td>10052.37000000</td>\n",
       "      <td>2023-04-30 21:59:59.999</td>\n",
       "      <td>116890.67371000</td>\n",
       "      <td>604</td>\n",
       "      <td>4289.29000000</td>\n",
       "      <td>49863.04461000</td>\n",
       "      <td>0</td>\n",
       "    </tr>\n",
       "    <tr>\n",
       "      <th>496</th>\n",
       "      <td>2023-04-30 22:00:00</td>\n",
       "      <td>11.59300000</td>\n",
       "      <td>11.59300000</td>\n",
       "      <td>11.55900000</td>\n",
       "      <td>11.57300000</td>\n",
       "      <td>10993.66000000</td>\n",
       "      <td>2023-04-30 22:14:59.999</td>\n",
       "      <td>127244.75981000</td>\n",
       "      <td>592</td>\n",
       "      <td>5921.93000000</td>\n",
       "      <td>68537.18450000</td>\n",
       "      <td>0</td>\n",
       "    </tr>\n",
       "    <tr>\n",
       "      <th>497</th>\n",
       "      <td>2023-04-30 22:15:00</td>\n",
       "      <td>11.57300000</td>\n",
       "      <td>11.57800000</td>\n",
       "      <td>11.55000000</td>\n",
       "      <td>11.57400000</td>\n",
       "      <td>8961.48000000</td>\n",
       "      <td>2023-04-30 22:29:59.999</td>\n",
       "      <td>103614.14500000</td>\n",
       "      <td>491</td>\n",
       "      <td>3750.26000000</td>\n",
       "      <td>43360.09534000</td>\n",
       "      <td>0</td>\n",
       "    </tr>\n",
       "    <tr>\n",
       "      <th>498</th>\n",
       "      <td>2023-04-30 22:30:00</td>\n",
       "      <td>11.57200000</td>\n",
       "      <td>11.57900000</td>\n",
       "      <td>11.54700000</td>\n",
       "      <td>11.56100000</td>\n",
       "      <td>5436.38000000</td>\n",
       "      <td>2023-04-30 22:44:59.999</td>\n",
       "      <td>62850.44086000</td>\n",
       "      <td>306</td>\n",
       "      <td>2305.98000000</td>\n",
       "      <td>26653.74588000</td>\n",
       "      <td>0</td>\n",
       "    </tr>\n",
       "    <tr>\n",
       "      <th>499</th>\n",
       "      <td>2023-04-30 22:45:00</td>\n",
       "      <td>11.56100000</td>\n",
       "      <td>11.58400000</td>\n",
       "      <td>11.56100000</td>\n",
       "      <td>11.58400000</td>\n",
       "      <td>1793.54000000</td>\n",
       "      <td>2023-04-30 22:59:59.999</td>\n",
       "      <td>20760.53655000</td>\n",
       "      <td>148</td>\n",
       "      <td>1018.87000000</td>\n",
       "      <td>11792.49245000</td>\n",
       "      <td>0</td>\n",
       "    </tr>\n",
       "  </tbody>\n",
       "</table>\n",
       "</div>"
      ],
      "text/plain": [
       "              open_time         open         high          low        close  \\\n",
       "495 2023-04-30 21:45:00  11.64200000  11.65100000  11.59200000  11.59300000   \n",
       "496 2023-04-30 22:00:00  11.59300000  11.59300000  11.55900000  11.57300000   \n",
       "497 2023-04-30 22:15:00  11.57300000  11.57800000  11.55000000  11.57400000   \n",
       "498 2023-04-30 22:30:00  11.57200000  11.57900000  11.54700000  11.56100000   \n",
       "499 2023-04-30 22:45:00  11.56100000  11.58400000  11.56100000  11.58400000   \n",
       "\n",
       "             volume              close_time              qav  num_trades  \\\n",
       "495  10052.37000000 2023-04-30 21:59:59.999  116890.67371000         604   \n",
       "496  10993.66000000 2023-04-30 22:14:59.999  127244.75981000         592   \n",
       "497   8961.48000000 2023-04-30 22:29:59.999  103614.14500000         491   \n",
       "498   5436.38000000 2023-04-30 22:44:59.999   62850.44086000         306   \n",
       "499   1793.54000000 2023-04-30 22:59:59.999   20760.53655000         148   \n",
       "\n",
       "    taker_base_vol taker_quote_vol ignore  \n",
       "495  4289.29000000  49863.04461000      0  \n",
       "496  5921.93000000  68537.18450000      0  \n",
       "497  3750.26000000  43360.09534000      0  \n",
       "498  2305.98000000  26653.74588000      0  \n",
       "499  1018.87000000  11792.49245000      0  "
      ]
     },
     "execution_count": 7,
     "metadata": {},
     "output_type": "execute_result"
    },
    {
     "data": {
      "application/javascript": [
       "\n",
       "            setTimeout(function() {\n",
       "                var nbb_cell_id = 7;\n",
       "                var nbb_unformatted_code = \"data = pd.DataFrame(klines, columns=short_col_names)\\ndata[\\\"open_time\\\"] = pd.to_datetime(data[\\\"open_time\\\"], unit=\\\"ms\\\")\\ndata[\\\"close_time\\\"] = pd.to_datetime(data[\\\"close_time\\\"], unit=\\\"ms\\\")\\ndata.tail(5)\";\n",
       "                var nbb_formatted_code = \"data = pd.DataFrame(klines, columns=short_col_names)\\ndata[\\\"open_time\\\"] = pd.to_datetime(data[\\\"open_time\\\"], unit=\\\"ms\\\")\\ndata[\\\"close_time\\\"] = pd.to_datetime(data[\\\"close_time\\\"], unit=\\\"ms\\\")\\ndata.tail(5)\";\n",
       "                var nbb_cells = Jupyter.notebook.get_cells();\n",
       "                for (var i = 0; i < nbb_cells.length; ++i) {\n",
       "                    if (nbb_cells[i].input_prompt_number == nbb_cell_id) {\n",
       "                        if (nbb_cells[i].get_text() == nbb_unformatted_code) {\n",
       "                             nbb_cells[i].set_text(nbb_formatted_code);\n",
       "                        }\n",
       "                        break;\n",
       "                    }\n",
       "                }\n",
       "            }, 500);\n",
       "            "
      ],
      "text/plain": [
       "<IPython.core.display.Javascript object>"
      ]
     },
     "metadata": {},
     "output_type": "display_data"
    }
   ],
   "source": [
    "data = pd.DataFrame(klines, columns=short_col_names)\n",
    "data[\"open_time\"] = pd.to_datetime(data[\"open_time\"], unit=\"ms\")\n",
    "data[\"close_time\"] = pd.to_datetime(data[\"close_time\"], unit=\"ms\")\n",
    "data.tail(5)"
   ]
  },
  {
   "cell_type": "markdown",
   "id": "favorite-springfield",
   "metadata": {},
   "source": [
    "### Inputs"
   ]
  },
  {
   "cell_type": "code",
   "execution_count": 8,
   "id": "express-programming",
   "metadata": {},
   "outputs": [
    {
     "data": {
      "application/javascript": [
       "\n",
       "            setTimeout(function() {\n",
       "                var nbb_cell_id = 8;\n",
       "                var nbb_unformatted_code = \"length: int = 20  # input.int(20, minval=1)\\nsrc: pd.Series = data[\\\"close\\\"]  # input(close, title=\\\"Source\\\")\\nmult: float = 2.0  # input.float(2.0, minval=0.001, maxval=50, title=\\\"StdDev\\\")\\n# offset: int = 0  # input.int(0, \\\"Offset\\\", minval = -500, maxval = 500)\";\n",
       "                var nbb_formatted_code = \"length: int = 20  # input.int(20, minval=1)\\nsrc: pd.Series = data[\\\"close\\\"]  # input(close, title=\\\"Source\\\")\\nmult: float = 2.0  # input.float(2.0, minval=0.001, maxval=50, title=\\\"StdDev\\\")\\n# offset: int = 0  # input.int(0, \\\"Offset\\\", minval = -500, maxval = 500)\";\n",
       "                var nbb_cells = Jupyter.notebook.get_cells();\n",
       "                for (var i = 0; i < nbb_cells.length; ++i) {\n",
       "                    if (nbb_cells[i].input_prompt_number == nbb_cell_id) {\n",
       "                        if (nbb_cells[i].get_text() == nbb_unformatted_code) {\n",
       "                             nbb_cells[i].set_text(nbb_formatted_code);\n",
       "                        }\n",
       "                        break;\n",
       "                    }\n",
       "                }\n",
       "            }, 500);\n",
       "            "
      ],
      "text/plain": [
       "<IPython.core.display.Javascript object>"
      ]
     },
     "metadata": {},
     "output_type": "display_data"
    }
   ],
   "source": [
    "length: int = 20  # input.int(20, minval=1)\n",
    "src: pd.Series = data[\"close\"]  # input(close, title=\"Source\")\n",
    "mult: float = 2.0  # input.float(2.0, minval=0.001, maxval=50, title=\"StdDev\")\n",
    "# offset: int = 0  # input.int(0, \"Offset\", minval = -500, maxval = 500)"
   ]
  },
  {
   "cell_type": "code",
   "execution_count": 9,
   "id": "psychological-train",
   "metadata": {},
   "outputs": [
    {
     "data": {
      "application/javascript": [
       "\n",
       "            setTimeout(function() {\n",
       "                var nbb_cell_id = 9;\n",
       "                var nbb_unformatted_code = \"basis = tl.SMA(src, length)\\ndev = mult * tl.STDDEV(src, length)\\n\\nupper = basis + dev\\nlower = basis - dev\";\n",
       "                var nbb_formatted_code = \"basis = tl.SMA(src, length)\\ndev = mult * tl.STDDEV(src, length)\\n\\nupper = basis + dev\\nlower = basis - dev\";\n",
       "                var nbb_cells = Jupyter.notebook.get_cells();\n",
       "                for (var i = 0; i < nbb_cells.length; ++i) {\n",
       "                    if (nbb_cells[i].input_prompt_number == nbb_cell_id) {\n",
       "                        if (nbb_cells[i].get_text() == nbb_unformatted_code) {\n",
       "                             nbb_cells[i].set_text(nbb_formatted_code);\n",
       "                        }\n",
       "                        break;\n",
       "                    }\n",
       "                }\n",
       "            }, 500);\n",
       "            "
      ],
      "text/plain": [
       "<IPython.core.display.Javascript object>"
      ]
     },
     "metadata": {},
     "output_type": "display_data"
    }
   ],
   "source": [
    "basis = tl.SMA(src, length)\n",
    "dev = mult * tl.STDDEV(src, length)\n",
    "\n",
    "upper = basis + dev\n",
    "lower = basis - dev"
   ]
  },
  {
   "cell_type": "code",
   "execution_count": 10,
   "id": "confidential-mainstream",
   "metadata": {},
   "outputs": [
    {
     "data": {
      "text/html": [
       "<div>\n",
       "<style scoped>\n",
       "    .dataframe tbody tr th:only-of-type {\n",
       "        vertical-align: middle;\n",
       "    }\n",
       "\n",
       "    .dataframe tbody tr th {\n",
       "        vertical-align: top;\n",
       "    }\n",
       "\n",
       "    .dataframe thead th {\n",
       "        text-align: right;\n",
       "    }\n",
       "</style>\n",
       "<table border=\"1\" class=\"dataframe\">\n",
       "  <thead>\n",
       "    <tr style=\"text-align: right;\">\n",
       "      <th></th>\n",
       "      <th>open_time</th>\n",
       "      <th>Basis</th>\n",
       "      <th>Deviation</th>\n",
       "      <th>Upper</th>\n",
       "      <th>Lower</th>\n",
       "    </tr>\n",
       "  </thead>\n",
       "  <tbody>\n",
       "    <tr>\n",
       "      <th>480</th>\n",
       "      <td>2023-04-30 18:00:00</td>\n",
       "      <td>11.82435</td>\n",
       "      <td>0.064032</td>\n",
       "      <td>11.888382</td>\n",
       "      <td>11.760318</td>\n",
       "    </tr>\n",
       "    <tr>\n",
       "      <th>481</th>\n",
       "      <td>2023-04-30 18:15:00</td>\n",
       "      <td>11.82255</td>\n",
       "      <td>0.067689</td>\n",
       "      <td>11.890239</td>\n",
       "      <td>11.754861</td>\n",
       "    </tr>\n",
       "    <tr>\n",
       "      <th>482</th>\n",
       "      <td>2023-04-30 18:30:00</td>\n",
       "      <td>11.82240</td>\n",
       "      <td>0.067945</td>\n",
       "      <td>11.890345</td>\n",
       "      <td>11.754455</td>\n",
       "    </tr>\n",
       "    <tr>\n",
       "      <th>483</th>\n",
       "      <td>2023-04-30 18:45:00</td>\n",
       "      <td>11.82190</td>\n",
       "      <td>0.068361</td>\n",
       "      <td>11.890261</td>\n",
       "      <td>11.753539</td>\n",
       "    </tr>\n",
       "    <tr>\n",
       "      <th>484</th>\n",
       "      <td>2023-04-30 19:00:00</td>\n",
       "      <td>11.81665</td>\n",
       "      <td>0.079647</td>\n",
       "      <td>11.896297</td>\n",
       "      <td>11.737003</td>\n",
       "    </tr>\n",
       "    <tr>\n",
       "      <th>485</th>\n",
       "      <td>2023-04-30 19:15:00</td>\n",
       "      <td>11.80930</td>\n",
       "      <td>0.102982</td>\n",
       "      <td>11.912282</td>\n",
       "      <td>11.706318</td>\n",
       "    </tr>\n",
       "    <tr>\n",
       "      <th>486</th>\n",
       "      <td>2023-04-30 19:30:00</td>\n",
       "      <td>11.79930</td>\n",
       "      <td>0.122267</td>\n",
       "      <td>11.921567</td>\n",
       "      <td>11.677033</td>\n",
       "    </tr>\n",
       "    <tr>\n",
       "      <th>487</th>\n",
       "      <td>2023-04-30 19:45:00</td>\n",
       "      <td>11.78785</td>\n",
       "      <td>0.137125</td>\n",
       "      <td>11.924975</td>\n",
       "      <td>11.650725</td>\n",
       "    </tr>\n",
       "    <tr>\n",
       "      <th>488</th>\n",
       "      <td>2023-04-30 20:00:00</td>\n",
       "      <td>11.76785</td>\n",
       "      <td>0.183465</td>\n",
       "      <td>11.951315</td>\n",
       "      <td>11.584385</td>\n",
       "    </tr>\n",
       "    <tr>\n",
       "      <th>489</th>\n",
       "      <td>2023-04-30 20:15:00</td>\n",
       "      <td>11.75030</td>\n",
       "      <td>0.207380</td>\n",
       "      <td>11.957680</td>\n",
       "      <td>11.542920</td>\n",
       "    </tr>\n",
       "    <tr>\n",
       "      <th>490</th>\n",
       "      <td>2023-04-30 20:30:00</td>\n",
       "      <td>11.73035</td>\n",
       "      <td>0.228201</td>\n",
       "      <td>11.958551</td>\n",
       "      <td>11.502149</td>\n",
       "    </tr>\n",
       "    <tr>\n",
       "      <th>491</th>\n",
       "      <td>2023-04-30 20:45:00</td>\n",
       "      <td>11.71420</td>\n",
       "      <td>0.246642</td>\n",
       "      <td>11.960842</td>\n",
       "      <td>11.467558</td>\n",
       "    </tr>\n",
       "    <tr>\n",
       "      <th>492</th>\n",
       "      <td>2023-04-30 21:00:00</td>\n",
       "      <td>11.70125</td>\n",
       "      <td>0.245004</td>\n",
       "      <td>11.946254</td>\n",
       "      <td>11.456246</td>\n",
       "    </tr>\n",
       "    <tr>\n",
       "      <th>493</th>\n",
       "      <td>2023-04-30 21:15:00</td>\n",
       "      <td>11.69310</td>\n",
       "      <td>0.242419</td>\n",
       "      <td>11.935519</td>\n",
       "      <td>11.450681</td>\n",
       "    </tr>\n",
       "    <tr>\n",
       "      <th>494</th>\n",
       "      <td>2023-04-30 21:30:00</td>\n",
       "      <td>11.68440</td>\n",
       "      <td>0.236570</td>\n",
       "      <td>11.920970</td>\n",
       "      <td>11.447830</td>\n",
       "    </tr>\n",
       "    <tr>\n",
       "      <th>495</th>\n",
       "      <td>2023-04-30 21:45:00</td>\n",
       "      <td>11.67275</td>\n",
       "      <td>0.230398</td>\n",
       "      <td>11.903148</td>\n",
       "      <td>11.442352</td>\n",
       "    </tr>\n",
       "    <tr>\n",
       "      <th>496</th>\n",
       "      <td>2023-04-30 22:00:00</td>\n",
       "      <td>11.66125</td>\n",
       "      <td>0.226166</td>\n",
       "      <td>11.887416</td>\n",
       "      <td>11.435084</td>\n",
       "    </tr>\n",
       "    <tr>\n",
       "      <th>497</th>\n",
       "      <td>2023-04-30 22:15:00</td>\n",
       "      <td>11.64885</td>\n",
       "      <td>0.216542</td>\n",
       "      <td>11.865392</td>\n",
       "      <td>11.432308</td>\n",
       "    </tr>\n",
       "    <tr>\n",
       "      <th>498</th>\n",
       "      <td>2023-04-30 22:30:00</td>\n",
       "      <td>11.63680</td>\n",
       "      <td>0.207755</td>\n",
       "      <td>11.844555</td>\n",
       "      <td>11.429045</td>\n",
       "    </tr>\n",
       "    <tr>\n",
       "      <th>499</th>\n",
       "      <td>2023-04-30 22:45:00</td>\n",
       "      <td>11.62765</td>\n",
       "      <td>0.199986</td>\n",
       "      <td>11.827636</td>\n",
       "      <td>11.427664</td>\n",
       "    </tr>\n",
       "  </tbody>\n",
       "</table>\n",
       "</div>"
      ],
      "text/plain": [
       "              open_time     Basis  Deviation      Upper      Lower\n",
       "480 2023-04-30 18:00:00  11.82435   0.064032  11.888382  11.760318\n",
       "481 2023-04-30 18:15:00  11.82255   0.067689  11.890239  11.754861\n",
       "482 2023-04-30 18:30:00  11.82240   0.067945  11.890345  11.754455\n",
       "483 2023-04-30 18:45:00  11.82190   0.068361  11.890261  11.753539\n",
       "484 2023-04-30 19:00:00  11.81665   0.079647  11.896297  11.737003\n",
       "485 2023-04-30 19:15:00  11.80930   0.102982  11.912282  11.706318\n",
       "486 2023-04-30 19:30:00  11.79930   0.122267  11.921567  11.677033\n",
       "487 2023-04-30 19:45:00  11.78785   0.137125  11.924975  11.650725\n",
       "488 2023-04-30 20:00:00  11.76785   0.183465  11.951315  11.584385\n",
       "489 2023-04-30 20:15:00  11.75030   0.207380  11.957680  11.542920\n",
       "490 2023-04-30 20:30:00  11.73035   0.228201  11.958551  11.502149\n",
       "491 2023-04-30 20:45:00  11.71420   0.246642  11.960842  11.467558\n",
       "492 2023-04-30 21:00:00  11.70125   0.245004  11.946254  11.456246\n",
       "493 2023-04-30 21:15:00  11.69310   0.242419  11.935519  11.450681\n",
       "494 2023-04-30 21:30:00  11.68440   0.236570  11.920970  11.447830\n",
       "495 2023-04-30 21:45:00  11.67275   0.230398  11.903148  11.442352\n",
       "496 2023-04-30 22:00:00  11.66125   0.226166  11.887416  11.435084\n",
       "497 2023-04-30 22:15:00  11.64885   0.216542  11.865392  11.432308\n",
       "498 2023-04-30 22:30:00  11.63680   0.207755  11.844555  11.429045\n",
       "499 2023-04-30 22:45:00  11.62765   0.199986  11.827636  11.427664"
      ]
     },
     "execution_count": 10,
     "metadata": {},
     "output_type": "execute_result"
    },
    {
     "data": {
      "application/javascript": [
       "\n",
       "            setTimeout(function() {\n",
       "                var nbb_cell_id = 10;\n",
       "                var nbb_unformatted_code = \"res = pd.DataFrame(\\n    {\\n        \\\"open_time\\\": data[\\\"open_time\\\"],\\n        \\\"Basis\\\": basis,\\n        \\\"Deviation\\\": dev,\\n        \\\"Upper\\\": upper,\\n        \\\"Lower\\\": lower,\\n    }\\n)\\nres.tail(20)\";\n",
       "                var nbb_formatted_code = \"res = pd.DataFrame(\\n    {\\n        \\\"open_time\\\": data[\\\"open_time\\\"],\\n        \\\"Basis\\\": basis,\\n        \\\"Deviation\\\": dev,\\n        \\\"Upper\\\": upper,\\n        \\\"Lower\\\": lower,\\n    }\\n)\\nres.tail(20)\";\n",
       "                var nbb_cells = Jupyter.notebook.get_cells();\n",
       "                for (var i = 0; i < nbb_cells.length; ++i) {\n",
       "                    if (nbb_cells[i].input_prompt_number == nbb_cell_id) {\n",
       "                        if (nbb_cells[i].get_text() == nbb_unformatted_code) {\n",
       "                             nbb_cells[i].set_text(nbb_formatted_code);\n",
       "                        }\n",
       "                        break;\n",
       "                    }\n",
       "                }\n",
       "            }, 500);\n",
       "            "
      ],
      "text/plain": [
       "<IPython.core.display.Javascript object>"
      ]
     },
     "metadata": {},
     "output_type": "display_data"
    }
   ],
   "source": [
    "res = pd.DataFrame(\n",
    "    {\n",
    "        \"open_time\": data[\"open_time\"],\n",
    "        \"Basis\": basis,\n",
    "        \"Deviation\": dev,\n",
    "        \"Upper\": upper,\n",
    "        \"Lower\": lower,\n",
    "    }\n",
    ")\n",
    "res.tail(20)"
   ]
  },
  {
   "cell_type": "code",
   "execution_count": null,
   "id": "robust-lecture",
   "metadata": {},
   "outputs": [],
   "source": []
  }
 ],
 "metadata": {
  "kernelspec": {
   "display_name": "venv",
   "language": "python",
   "name": "venv"
  },
  "language_info": {
   "codemirror_mode": {
    "name": "ipython",
    "version": 3
   },
   "file_extension": ".py",
   "mimetype": "text/x-python",
   "name": "python",
   "nbconvert_exporter": "python",
   "pygments_lexer": "ipython3",
   "version": "3.6.13"
  }
 },
 "nbformat": 4,
 "nbformat_minor": 5
}
